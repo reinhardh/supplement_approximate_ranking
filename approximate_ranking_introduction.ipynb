{
 "cells": [
  {
   "cell_type": "markdown",
   "metadata": {},
   "source": [
    "# Approximate ranking from pairwise comparisions\n",
    "\n",
    "We consider sequential or active ranking of a set of n items based on noisy pairwise comparisons. Items are ranked according to the probability that a given item beats a randomly chosen item, and ranking refers to partitioning the items into sets of pre-specified sizes according to their scores. This notion of ranking includes as special cases the identification of the top-$k$ items and the total ordering of the items. For simplicity, let us consider the top-$k$ identification problem.\n",
    "\n",
    "We consider a collection of $n$ items, and our data consists\n",
    "of outcomes of comparisons between pairs of items in this collection\n",
    "that are collected in a sequential fashion, also known as the active\n",
    "setting. We assume that the outcomes of comparisons are\n",
    "stochastic---that is, item $i$ beats item $j$ with an unknown\n",
    "probability $M_{ij} \\in (0,1)$. The outcomes of pairwise\n",
    "comparisons are furthermore assumed to be statistically mutually\n",
    "independent. We define the ordering of the items in terms of their\n",
    "(unknown) scores, where the score $\\tau_i$ of item $i$ is defined as\n",
    "the probability that item $i$ beats an item chosen uniformly at random\n",
    "from all other items:\n",
    "$$\n",
    "\\tau_i := \\frac{1}{n - 1} \\sum_{j\\neq i} M_{ij}.\n",
    "$$\n",
    "Assuming that the scores are all distinct, they define a unique ranking of the $n$ items. Identifying the top-$k$ items amounts to identify two disjoint subsets $\\hat S_1, \\hat S_2 \\subset \\{1,\\ldots,n\\}$ such that all items in $\\hat S_1$ have a larger score than the items in the set $\\hat S_2$. \n",
    "\n",
    "An active ranking algorithm acts on a pairwise comparison model $M$. The goal is to identify the top-$k$ items from active comparisons.  At each time\n",
    "instant, the algorithm can compare two arbitrary items, and the choice\n",
    "of which items to compare may be based on the outcomes of previous\n",
    "comparisons. As a result of comparing two items $i$ and $j$, the\n",
    "algorithm receives an independent draw of a binary random variable\n",
    "with success probability $M_{ij}$ in response.  After termination\n",
    "dictated by an associated stopping rule, the algorithm returns a\n",
    "ranking $\\hat S_1, \\hat S_2$.\n",
    "\n",
    "Below, we present an implementation of the Hamming-LUCB algorithm presented in the paper:\n",
    "``Approximate ranking from pairwise comparisons'', by R. Heckel, M. Simchowitz, K. Ramchandran, and M. J. Wainwright, \n",
    "AISTATS 2018 (International Conference on Artificial Intelligence and Statistics)."
   ]
  },
  {
   "cell_type": "markdown",
   "metadata": {},
   "source": [
    "## The model\n",
    "We start with defining a class for representing a pairwise comparision model."
   ]
  },
  {
   "cell_type": "code",
   "execution_count": 1,
   "metadata": {},
   "outputs": [],
   "source": [
    "from numpy import *\n",
    "import matplotlib.pyplot as plt\n",
    "%matplotlib inline\n",
    "\n",
    "class pairwise:\n",
    "    def __init__(self,n):\n",
    "        self.ctr = 0 # counts how many comparisons have been queried from the model\n",
    "        self.n = n \n",
    "\n",
    "    def sortP(self): # sort the comparison matrix according to scores\n",
    "        scores = self.scores()\n",
    "        pi = argsort(-scores)\n",
    "        self.P = self.P[:,pi]\n",
    "        self.P = self.P[pi,:]\n",
    "    \n",
    "    def generate_deterministic_BTL(self,w): # generates a Bradley-Terry-Luce model\n",
    "        self.w = w\n",
    "        self.P = zeros((self.n,self.n))\n",
    "        for i in range(self.n):\n",
    "            for j in range(i,self.n):\n",
    "                self.P[i,j] = 1/( 1 + exp( w[j] - w[i] ) )\n",
    "                self.P[j,i] = 1 - self.P[i,j]\n",
    "        self.sortP()\n",
    "\n",
    "    def compare(self,i,j): # draw a comparision from the model\n",
    "        if i == j:\n",
    "            print(\"does not make sense\")\n",
    "        self.ctr += 1\n",
    "        if random.rand() < self.P[i,j]:\n",
    "            return 1 # i beats j\n",
    "        else:\n",
    "            return 0 # j beats i\n",
    "\n",
    "    def scores(self):\n",
    "        P = array(self.P)\n",
    "        for i in range(len(P)):\n",
    "            P[i,i] = 0\n",
    "        return sum(P,axis=1)/(self.n-1)"
   ]
  },
  {
   "cell_type": "markdown",
   "metadata": {},
   "source": [
    "Let us next generate a small BTL model, and test it."
   ]
  },
  {
   "cell_type": "code",
   "execution_count": 2,
   "metadata": {},
   "outputs": [
    {
     "name": "stdout",
     "output_type": "stream",
     "text": [
      "The scores of the items are:\n",
      " [0.62057453 0.59436023 0.56771484 0.54075592 0.51360659 0.48639341\n",
      " 0.45924408 0.43228516 0.40563977 0.37942547] \n",
      "\n",
      "Comparing 1 to 2 gives: 1 wins\n",
      "Comparing 1 to 2 gives: 1 wins\n",
      "Comparing 1 to 2 gives: 2 wins\n",
      "Comparing 1 to 2 gives: 2 wins\n",
      "Comparing 1 to 2 gives: 1 wins\n",
      "5  queries have been made\n"
     ]
    }
   ],
   "source": [
    "n = 10\n",
    "delta = 0.1\n",
    "pmodel = pairwise(n)\n",
    "pmodel.generate_deterministic_BTL([ i/float(n) for i in range(n) ])\n",
    "\n",
    "print(\"The scores of the items are:\\n\", pmodel.scores(),\"\\n\")\n",
    "\n",
    "# make a few comparisions\n",
    "for i in range(5): \n",
    "    print(\"Comparing 1 to 2 gives:\", '1 wins' if pmodel.compare(1,2) else '2 wins')\n",
    "    \n",
    "print(pmodel.ctr, \" queries have been made\")"
   ]
  },
  {
   "cell_type": "markdown",
   "metadata": {},
   "source": [
    "## The Hamming LUCB ranking algorithm\n",
    "We next implement the Hamming-LUCB ranking algorithm described in our paper. "
   ]
  },
  {
   "cell_type": "code",
   "execution_count": 3,
   "metadata": {},
   "outputs": [],
   "source": [
    "class Hamming_LUCB:\n",
    "    def __init__(self,pairwise,k,hd=1):\n",
    "        self.hd = hd\n",
    "        self.k = k\n",
    "        self.pairwise = pairwise # instance of pairwise\n",
    "    def random_cmp(self,i): # compare i to a randomly chosen other item\n",
    "        j = random.choice(range(self.pairwise.n-1))\n",
    "        if j >= i:\n",
    "            j += 1\n",
    "        return float( self.pairwise.compare(i,j) )\n",
    "    def alpha(self,Ti,delta):\n",
    "        n = self.pairwise.n\n",
    "        beta = log(n/delta) + 0.75*log(log(n/delta)) + 1.5*log(1+log(Ti/2))\n",
    "        return sqrt( 3 / (2*Ti) ) \n",
    "    def rank(self,delta=0.5,numit = 6000000,monitor=[]):\n",
    "        monitor_results = [array(range(1,self.pairwise.n+1))]\n",
    "        S = [] # list with entries ( i, T_i, scorehat_i, scorehat_i - alpha_i, scorehat_i + alpha_i, alpha_i)\n",
    "        # compare each item once to initialize\n",
    "        for i in range(self.pairwise.n):\n",
    "            scorehat = self.random_cmp(i)\n",
    "            S.append( ( i, 1, scorehat, scorehat-self.alpha(1,delta), scorehat+self.alpha(1,delta), self.alpha(1,delta) ) )\n",
    "        for iit in range(numit):\n",
    "            # sort in descending order by scorehat\n",
    "            S = sorted(S , key=lambda entry: entry[2],reverse=True)\n",
    "            # min scorehat_i - alpha_i; min over (1),...,(k-h)\n",
    "            d1low = min( S[:self.k-self.hd] , key=lambda entry: entry[3] )\n",
    "            # max scorehat_i + alpha_i; max over (k+1+h),...,(n)\n",
    "            d2up = max( S[self.k+self.hd:] , key=lambda entry: entry[4] )\n",
    "            \n",
    "            sample_next = [] # items to sample in next round\n",
    "            if self.hd == 0: # algorithm reduced to LUCB algorithm\n",
    "                sample_next = [d1low,d2up]\n",
    "            else: # self.hd > 0\n",
    "                # find middle items with the largest confidence intervals\n",
    "                b1al = max( S[self.k-self.hd:self.k] , key=lambda entry: entry[5] )\n",
    "                b2al = max( S[self.k:self.k+self.hd] , key=lambda entry: entry[5] )\n",
    "                if d1low[5] < b1al[5]:\n",
    "                    sample_next += [b1al]\n",
    "                else:\n",
    "                    sample_next += [d1low]\n",
    "                if d2up[5] < b2al[5]:\n",
    "                    sample_next += [b2al]\n",
    "                else:\n",
    "                    sample_next += [d2up]\n",
    "            \n",
    "            # collect data to visualize the progress of the algorithm\n",
    "            if iit in monitor or d1low[3] > d2up[4]:\n",
    "                scores = array([s[2] for s in S])\n",
    "                alphas = array([s[5] for s in S])\n",
    "                monitor_results.append(scores)\n",
    "                monitor_results.append(alphas)\n",
    "                \n",
    "            # check termination condition\n",
    "            if d1low[3] > d2up[4]:\n",
    "                break\t# terminate\n",
    "\n",
    "            # compare and uptate scores\n",
    "            for it in set(sample_next):\n",
    "                Ti = it[1]+1\n",
    "                shat = 1.0/Ti*( (Ti-1)*it[2] + self.random_cmp( it[0] ) )\n",
    "                alphai = self.alpha(Ti,delta)\n",
    "                S[S.index(it)] = ( it[0], Ti, shat, shat - alphai, shat + alphai, alphai )\n",
    "\n",
    "        est_ranking = [s[0] for s in S]\n",
    "        self.ranking = [ est_ranking[:self.k], est_ranking[self.k+1:]  ]\n",
    "        return monitor_results"
   ]
  },
  {
   "cell_type": "markdown",
   "metadata": {},
   "source": [
    "## Testing the algorithm\n",
    "Let's run the algorithm on a simple example ($k=5$ and hamming distance $h=2$), and plot how the confidence intervals evolve. It can be seen that at termination, the confidence intervals of items 0-3 and 7-9 are seperated, as desired."
   ]
  },
  {
   "cell_type": "code",
   "execution_count": 4,
   "metadata": {
    "scrolled": true
   },
   "outputs": [
    {
     "name": "stdout",
     "output_type": "stream",
     "text": [
      "Estimates and upper/lower confidence bounds after 30 iterations:\n"
     ]
    },
    {
     "data": {
      "image/png": "[encoded data removed]",
      "text/plain": [
       "<matplotlib.figure.Figure at 0x1064a99e8>"
      ]
     },
     "metadata": {},
     "output_type": "display_data"
    },
    {
     "name": "stdout",
     "output_type": "stream",
     "text": [
      "Estimates and upper/lower confidence bounds at termination:\n"
     ]
    },
    {
     "data": {
      "image/png": "[encoded data removed]",
      "text/plain": [
       "<matplotlib.figure.Figure at 0x1064a9898>"
      ]
     },
     "metadata": {},
     "output_type": "display_data"
    }
   ],
   "source": [
    "k = 5\n",
    "hd = 2\n",
    "alg = Hamming_LUCB(pmodel,k,hd)\n",
    "delta = 0.5\n",
    "res = alg.rank(delta,100000,[30])\n",
    "\n",
    "def plot_scores(scorehat,conf): # plot \n",
    "    n = len(scorehat)\n",
    "    upper = scorehat+conf\n",
    "    lower = scorehat-conf\n",
    "    plt.plot(range(n),scorehat, 'rx',range(n),upper, 'bx',range(n),lower, 'yx' )\n",
    "    plt.show()\n",
    "\n",
    "print(\"Estimates and upper/lower confidence bounds after 30 iterations:\")\n",
    "plot_scores(res[1],res[2])\n",
    "print(\"Estimates and upper/lower confidence bounds at termination:\")\n",
    "plot_scores(res[3],res[4])"
   ]
  },
  {
   "cell_type": "markdown",
   "metadata": {},
   "source": [
    "# Gains in theory and practice\n",
    "\n",
    "Accordign to our theory, the sample complexity for a problem instance with scores \n",
    "$\\tau_1 > \\tau_2 > \\ldots \\tau_n$\n",
    "depends on the gaps between scores, defined as\n",
    "$$\n",
    "\\Delta_{i,j} = \\tau_i - \\tau_j,\n",
    "$$\n",
    "and is---up to a logarithmic factor---given by:\n",
    "$$\n",
    "\\underbrace{\n",
    "\\sum_{i = 1}^{k-h}\n",
    "\\Delta_{i,k+1+h}^{-2}\n",
    "}_{\\text{top}}\n",
    "+\n",
    "\\underbrace{\n",
    "2h \\Delta_{k-h,k+1+h}^{-2}\n",
    "}_{\\text{middle}}\n",
    "+\n",
    "\\underbrace{\n",
    "\\sum_{i = k+1+h}^{n} \n",
    "\\Delta_{k-h,i}^{-2}\n",
    "}_{\\text{bottom}}.\n",
    "$$\n",
    "Thus, there are different costs associated with the items in the top, middle, and bottom. \n",
    "While the particular gains depend on the scores, in general, the sample compexity becomes smaller in $h$, as the gaps (typically) increase in $h$. \n",
    "\n",
    "In practice, the scores often obey\n",
    "$$\n",
    "\\tau_i - \\tau_j \\approx 1/n,\n",
    "$$\n",
    "in which case the gains in sample complexity are a factor of about \n",
    "$$\n",
    "\\frac{1}{1+h}.\n",
    "$$\n",
    "We next demonstrate that those are gains we can expect in practice. Towards this goal, we emulate a pairwise comparison model that has the same scores as those obtained in the plaNYC survey. "
   ]
  },
  {
   "cell_type": "code",
   "execution_count": 5,
   "metadata": {},
   "outputs": [
    {
     "name": "stdout",
     "output_type": "stream",
     "text": [
      "run for h =  5\n",
      "run for h =  8\n",
      "run for h =  11\n"
     ]
    },
    {
     "data": {
      "text/plain": [
       "[<matplotlib.lines.Line2D at 0x10f790630>]"
      ]
     },
     "execution_count": 5,
     "metadata": {},
     "output_type": "execute_result"
    },
    {
     "data": {
      "image/png": "[encoded data removed]",
      "text/plain": [
       "<matplotlib.figure.Figure at 0x1043701d0>"
      ]
     },
     "metadata": {},
     "output_type": "display_data"
    }
   ],
   "source": [
    "'''\n",
    "Model for pairwise comparisons\n",
    "'''\n",
    "class pairwise_bandit():\n",
    "    def __init__(self,scores):\n",
    "        self.ctr = 0 # counts how many comparisons have been queried\n",
    "        self.scores = scores\n",
    "        self.n = len(scores)\n",
    "    def compare(self,i,j):\n",
    "        self.ctr += 1\n",
    "        # if j is choosen uniformly at random, this is equivalent to draw Bern(score_i)\n",
    "        if random.rand() < self.scores[i]:\n",
    "            return 1 # i beats j\n",
    "        else:\n",
    "            return 0 # j beats i\n",
    "\n",
    "NYC_scores = loadtxt('./PlaNYC_scores.dat', skiprows=1)\n",
    "NYC_scores = NYC_scores.T[1]\n",
    "\n",
    "pmodel = pairwise_bandit(NYC_scores)\n",
    "k = 40\n",
    "numit = 10\n",
    "ncmp = []\n",
    "hrange = [i for i in range(5,12,3)]\n",
    "for hd in hrange:\n",
    "    print(\"run for h = \",hd)\n",
    "    thisres = []\n",
    "    for it in range(numit):\n",
    "        pmodel.ctr = 0\n",
    "        alg = Hamming_LUCB(pmodel,k,hd)\n",
    "        alg.rank()\n",
    "        thisres += [alg.pairwise.ctr]\n",
    "    ncmp += [mean(thisres)]#[[mean(thisres),std(thisres)]]\n",
    "\n",
    "    \n",
    "plt.plot(hrange,ncmp, 'rx')\n"
   ]
  },
  {
   "cell_type": "code",
   "execution_count": null,
   "metadata": {
    "collapsed": true
   },
   "outputs": [],
   "source": []
  }
 ],
 "metadata": {
  "kernelspec": {
   "display_name": "Python 3",
   "language": "python",
   "name": "python3"
  },
  "language_info": {
   "codemirror_mode": {
    "name": "ipython",
    "version": 3
   },
   "file_extension": ".py",
   "mimetype": "text/x-python",
   "name": "python",
   "nbconvert_exporter": "python",
   "pygments_lexer": "ipython3",
   "version": "3.6.4"
  }
 },
 "nbformat": 4,
 "nbformat_minor": 2
}
